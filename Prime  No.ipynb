{
 "cells": [
  {
   "cell_type": "code",
   "execution_count": 3,
   "metadata": {},
   "outputs": [
    {
     "name": "stdout",
     "output_type": "stream",
     "text": [
      "Please enter a number\n",
      ">>>5\n"
     ]
    },
    {
     "ename": "SystemExit",
     "evalue": "The number is prime.",
     "output_type": "error",
     "traceback": [
      "An exception has occurred, use %tb to see the full traceback.\n",
      "\u001b[1;31mSystemExit\u001b[0m\u001b[1;31m:\u001b[0m The number is prime.\n"
     ]
    }
   ],
   "source": [
    "import sys\n",
    "number = input(\"Please enter a number\" + \"\\n\" + \">>>\")\n",
    "number = int(number)\n",
    "prime = False #initiate boolean for true false, default false\n",
    "if number > 0:\n",
    "    for x in range (2, number - 1): #this range excludes number and 1, both of which number is divisible by\n",
    "        if number % x != 0: #If number isn't evenly divisible by x, start over with the next one\n",
    "            continue \n",
    "        elif number % x == 0: #If number is evenly divisible by x, it can't be prime\n",
    "            sys.exit(\"The number is not prime.\")\n",
    "    sys.exit(\"The number is prime.\") #number wasn't evenly divisible by any x, so it's prime\n",
    "elif number == 0:\n",
    "    sys.exit(\"The number is not prime.\") #According to the Google, 0 is not prime\n",
    "else:#if number is less than 0, the number is not prime (according to the Google).\n",
    "    sys.exit(\"The number is not prime.\")"
   ]
  },
  {
   "cell_type": "code",
   "execution_count": 4,
   "metadata": {},
   "outputs": [
    {
     "name": "stdout",
     "output_type": "stream",
     "text": [
      "Please enter a number\n",
      ">>>6\n"
     ]
    },
    {
     "ename": "SystemExit",
     "evalue": "The number is not prime.",
     "output_type": "error",
     "traceback": [
      "An exception has occurred, use %tb to see the full traceback.\n",
      "\u001b[1;31mSystemExit\u001b[0m\u001b[1;31m:\u001b[0m The number is not prime.\n"
     ]
    }
   ],
   "source": [
    "import sys\n",
    "number = input(\"Please enter a number\" + \"\\n\" + \">>>\")\n",
    "number = int(number)\n",
    "prime = False #initiate boolean for true false, default false\n",
    "if number > 0:\n",
    "    for x in range (2, number - 1): #this range excludes number and 1, both of which number is divisible by\n",
    "        if number % x != 0: #If number isn't evenly divisible by x, start over with the next one\n",
    "            continue \n",
    "        elif number % x == 0: #If number is evenly divisible by x, it can't be prime\n",
    "            sys.exit(\"The number is not prime.\")\n",
    "    sys.exit(\"The number is prime.\") #number wasn't evenly divisible by any x, so it's prime\n",
    "elif number == 0:\n",
    "    sys.exit(\"The number is not prime.\") #According to the Google, 0 is not prime\n",
    "else:#if number is less than 0, the number is not prime (according to the Google).\n",
    "    sys.exit(\"The number is not prime.\")"
   ]
  },
  {
   "cell_type": "code",
   "execution_count": null,
   "metadata": {},
   "outputs": [],
   "source": []
  }
 ],
 "metadata": {
  "kernelspec": {
   "display_name": "Python 3",
   "language": "python",
   "name": "python3"
  },
  "language_info": {
   "codemirror_mode": {
    "name": "ipython",
    "version": 3
   },
   "file_extension": ".py",
   "mimetype": "text/x-python",
   "name": "python",
   "nbconvert_exporter": "python",
   "pygments_lexer": "ipython3",
   "version": "3.7.0"
  }
 },
 "nbformat": 4,
 "nbformat_minor": 4
}
